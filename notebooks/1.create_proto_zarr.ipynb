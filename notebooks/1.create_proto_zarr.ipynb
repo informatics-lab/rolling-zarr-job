{
 "cells": [
  {
   "cell_type": "markdown",
   "metadata": {},
   "source": [
    "### Load common functions, libs and vars"
   ]
  },
  {
   "cell_type": "code",
   "execution_count": 7,
   "metadata": {},
   "outputs": [],
   "source": [
    "# %load common.py\n",
    "import iris\n",
    "import xarray\n",
    "import os\n",
    "from numcodecs import Blosc\n",
    "import s3fs\n",
    "import zarr\n",
    "import intake\n",
    "from datetime import datetime, timezone, timedelta\n",
    "import cf_units\n",
    "import json\n",
    "import  dask_kubernetes\n",
    "import distributed\n",
    "import boto3\n",
    "from iris.experimental.equalise_cubes import equalise_attributes\n",
    "import pandas as pd\n",
    "import sys\n",
    "import numpy as np\n",
    "\n",
    "sys.path.append(os.path.normpath(os.getcwd()))\n",
    "from offsetmap import OffSetS3Map\n",
    "\n",
    "sqs = boto3.client('sqs')\n",
    "\n",
    "AWS_EARTH_TIME_FORMAT = '%Y-%m-%dT%H:%M:%SZ'\n",
    "# SQS_QUEUE_URL = 'https://sqs.eu-west-2.amazonaws.com/536099501702/aws-earth-test'\n",
    "SQS_QUEUE_URL = 'https://sqs.eu-west-2.amazonaws.com/536099501702/rolling_zarr_test_queue'\n",
    "\n",
    "BUCKET = \"metoffice-aws-earth-zarr\"\n",
    "\n",
    "def del_msg(msg):\n",
    "    sqs.delete_message(\n",
    "        QueueUrl=SQS_QUEUE_URL,\n",
    "        ReceiptHandle=msg['receipt_handle']\n",
    "    )\n",
    "    \n",
    "def get_messages(max_num=10):\n",
    "    res = sqs.receive_message(QueueUrl=SQS_QUEUE_URL, MaxNumberOfMessages=max_num, VisibilityTimeout=60*10)\n",
    "    messages  = []\n",
    "    for message in res['Messages']:\n",
    "        msg = json.loads(message['Body'])\n",
    "        msg['receipt_handle'] = message['ReceiptHandle']\n",
    "        messages.append(msg)\n",
    "    return messages\n",
    "\n",
    "def get_zar_path(meta):\n",
    "    base = f\"{BUCKET}/{meta['model']}-{meta['name']}\"\n",
    "    if meta.get('cell_methods', False):\n",
    "        base += f\"-{meta['cell_methods']}\"\n",
    "    if  meta.get('height', False) and (len(meta['height'].strip().split(' ')) > 1):\n",
    "        base += '-at_heights'\n",
    "    if meta.get('pressure', False) and (len(meta['pressure'].strip().split(' ')) > 1):\n",
    "        base += '-at_pressures'\n",
    "    return base + '.zarr'\n",
    "    \n",
    "\n",
    "def zarr_store(meta):\n",
    "    return OffSetS3Map(root=get_zar_path(meta), temp_chunk_path=meta['name'], check=False)\n",
    "    \n",
    "def msg_to_path(msg):\n",
    "    return f'/s3/{msg[\"bucket\"]}/{msg[\"key\"]}'\n",
    "\n",
    "def reshape_to_dest_cube(cube):\n",
    "    return iris.util.new_axis(iris.util.new_axis(cube, 'forecast_period'), 'forecast_reference_time')\n",
    "\n",
    "\n",
    "def get_proto_zarr_array(meta):\n",
    "    OffSetS3Map(root=get_zar_path(meta), temp_chunk_path=meta['name'], check=False)\n",
    "    array_store = OffSetS3Map(root=get_zar_path(meta) +'/' + meta['name'], temp_chunk_path='', check=False)\n",
    "    return zarr.open(array_store)\n",
    "\n",
    "def meta_from_zarr_path(path):\n",
    "    decompose = path\n",
    "    decompose = decompose.rsplit('.',1)[0]\n",
    "    meta = {}\n",
    "    \n",
    "    models = ['mo-atmospheric-global-prd', 'mo-atmospheric-mogreps-g-prd', 'mo-atmospheric-ukv-prd', 'mo-atmospheric-mogreps-uk-prd']\n",
    "    for possiable_model in models:\n",
    "        if path.startswith(possiable_model):\n",
    "            model = possiable_model\n",
    "        \n",
    "    meta['model'] = model\n",
    "    \n",
    "    decompose = decompose.replace(model+'-', '')\n",
    "    \n",
    "    if path.find('-at_heights'):\n",
    "        height = \"0 1 2 3\"\n",
    "        meta['height'] = height\n",
    "        decompose = decompose.replace('-at_heights', '')\n",
    "        \n",
    "    if path.find('-at_pressures') > 0:\n",
    "        pressure = \"1000 2000 3000\" \n",
    "        meta['pressure'] = pressure\n",
    "        decompose = decompose.replace('-at_pressures', '')\n",
    "        \n",
    "    meta['name'] = decompose \n",
    "    \n",
    "    return meta"
   ]
  },
  {
   "cell_type": "code",
   "execution_count": 2,
   "metadata": {},
   "outputs": [],
   "source": [
    "# %load offsetmap.py\n",
    "import s3fs\n",
    "import re\n",
    "import json\n",
    "\n",
    "\n",
    "class OffSetS3Map(s3fs.S3Map):\n",
    "    def __init__(self, *args, temp_chunk_path=None, **kwargs):\n",
    "        self.temp_chunk_path = temp_chunk_path\n",
    "        self._offsets = {}\n",
    "        s3fs.S3Map.__init__(self, *args, **kwargs)\n",
    "        self._chunk_re = re.compile(\"^[0-9]+([.][0-9]+)*$\")\n",
    "        \n",
    "    def _get_offset(self, prefix):\n",
    "        offset = self._offsets.get(prefix, False)\n",
    "        if offset is False:\n",
    "            offset = None\n",
    "            try:\n",
    "                path = prefix + '/.zattrs' if prefix else '.zattrs'\n",
    "                attrs = super().__getitem__(path)\n",
    "                offset = json.loads(attrs).get('_offset', None)\n",
    "            except KeyError:\n",
    "                print(f\"key error {prefix}\")\n",
    "                pass\n",
    "                \n",
    "            self._offsets[prefix] = offset\n",
    "        return offset\n",
    "    \n",
    "    def _is_chunk(self, path):\n",
    "        return bool(self._chunk_re.match(path.split('/')[-1]))\n",
    "    \n",
    "    def __setitem__(self, path, item):\n",
    "       \n",
    "        if not self._is_chunk(path):\n",
    "            return super().__setitem__(path, item)\n",
    "        \n",
    "        if not self.temp_chunk_path or not path.rsplit('/',1)[0].endswith(self.temp_chunk_path):\n",
    "            return super().__setitem__(path, item)\n",
    "        \n",
    "        try: \n",
    "            self.s3.s3_additional_kwargs['Tagging'] = 'type=temp_chunk'\n",
    "            return super().__setitem__(path, item)\n",
    "        finally:\n",
    "            del self.s3.s3_additional_kwargs['Tagging']\n",
    "                \n",
    "                \n",
    "    def __getitem__(self, path):\n",
    "        origpath = path\n",
    "        if '/' in path:\n",
    "            prefix, item = path.rsplit('/',1) \n",
    "        else:\n",
    "            prefix = ''\n",
    "            item = path\n",
    "            \n",
    "        if self._chunk_re.match(item):\n",
    "            offset = self._get_offset(prefix)\n",
    "            if offset:\n",
    "                # Apply offset\n",
    "                chunks = [int(i) for i in item.split('.')]\n",
    "                ochunks = [chunk + offset[i] for i,chunk in enumerate(chunks)]\n",
    "                item = '.'.join(str(v) for v in ochunks)\n",
    "        \n",
    "        path = prefix + '/' + item if prefix else item\n",
    "        return super().__getitem__(path)\n",
    "\n",
    "class PrintS3Map(s3fs.S3Map):\n",
    "    def __getitem__(self, path):\n",
    "        print(f\"keep same {path} to {path}\")\n",
    "        return super().__getitem__(path)"
   ]
  },
  {
   "cell_type": "markdown",
   "metadata": {},
   "source": [
    "## Find an example data sets to work with from the from the staging bucket manifest.\n",
    "We use the staging bucket cause we can queriy it much beter 'cause there is a dynamo table\n",
    "\n"
   ]
  },
  {
   "cell_type": "code",
   "execution_count": 3,
   "metadata": {
    "tags": [
     "parameters"
    ]
   },
   "outputs": [],
   "source": [
    "## Params\n",
    "# These params pick a sizable data set\n",
    "model=\"mo-atmospheric-mogreps-uk-prd\"\n",
    "param=\"air_temperature\"\n",
    "multi_height=True\n",
    "cell_methods=None\n"
   ]
  },
  {
   "cell_type": "code",
   "execution_count": 4,
   "metadata": {},
   "outputs": [],
   "source": [
    "manifest = intake.cat.service_hub_manifest.read()\n"
   ]
  },
  {
   "cell_type": "markdown",
   "metadata": {},
   "source": [
    "Code below a little narly but basically it filters on staging bucket manifest based on the params above, this is `data_set`. It then finds which run in  `data_set` has the longest forecast period as not all runs are equal in this respect (major hours on uk-v run longer). This is what is finally represented as `one_run_data`. "
   ]
  },
  {
   "cell_type": "code",
   "execution_count": 8,
   "metadata": {},
   "outputs": [
    {
     "name": "stderr",
     "output_type": "stream",
     "text": [
      "/opt/conda/lib/python3.6/site-packages/pandas/core/generic.py:4405: SettingWithCopyWarning: \n",
      "A value is trying to be set on a copy of a slice from a DataFrame.\n",
      "Try using .loc[row_indexer,col_indexer] = value instead\n",
      "\n",
      "See the caveats in the documentation: http://pandas.pydata.org/pandas-docs/stable/indexing.html#indexing-view-versus-copy\n",
      "  self[name] = value\n"
     ]
    },
    {
     "data": {
      "text/html": [
       "<div>\n",
       "<style scoped>\n",
       "    .dataframe tbody tr th:only-of-type {\n",
       "        vertical-align: middle;\n",
       "    }\n",
       "\n",
       "    .dataframe tbody tr th {\n",
       "        vertical-align: top;\n",
       "    }\n",
       "\n",
       "    .dataframe thead th {\n",
       "        text-align: right;\n",
       "    }\n",
       "</style>\n",
       "<table border=\"1\" class=\"dataframe\">\n",
       "  <thead>\n",
       "    <tr style=\"text-align: right;\">\n",
       "      <th></th>\n",
       "      <th>bucket</th>\n",
       "      <th>cell_methods</th>\n",
       "      <th>created_time</th>\n",
       "      <th>depth</th>\n",
       "      <th>depth_units</th>\n",
       "      <th>forecast_period</th>\n",
       "      <th>forecast_period_bounds</th>\n",
       "      <th>forecast_period_units</th>\n",
       "      <th>forecast_reference_time</th>\n",
       "      <th>height</th>\n",
       "      <th>height_units</th>\n",
       "      <th>model</th>\n",
       "      <th>name</th>\n",
       "      <th>object_size</th>\n",
       "      <th>pressure</th>\n",
       "      <th>pressure_units</th>\n",
       "      <th>realization</th>\n",
       "      <th>time</th>\n",
       "      <th>ttl</th>\n",
       "    </tr>\n",
       "    <tr>\n",
       "      <th>key</th>\n",
       "      <th></th>\n",
       "      <th></th>\n",
       "      <th></th>\n",
       "      <th></th>\n",
       "      <th></th>\n",
       "      <th></th>\n",
       "      <th></th>\n",
       "      <th></th>\n",
       "      <th></th>\n",
       "      <th></th>\n",
       "      <th></th>\n",
       "      <th></th>\n",
       "      <th></th>\n",
       "      <th></th>\n",
       "      <th></th>\n",
       "      <th></th>\n",
       "      <th></th>\n",
       "      <th></th>\n",
       "      <th></th>\n",
       "    </tr>\n",
       "  </thead>\n",
       "  <tbody>\n",
       "    <tr>\n",
       "      <th>ed9b728d51491b993b77b04eadb43a2eaf770a62.nc</th>\n",
       "      <td>informatics-aws-earth-staging</td>\n",
       "      <td>NaN</td>\n",
       "      <td>2019-02-11T12:58:35Z</td>\n",
       "      <td>NaN</td>\n",
       "      <td>NaN</td>\n",
       "      <td>0.0</td>\n",
       "      <td>NaN</td>\n",
       "      <td>seconds</td>\n",
       "      <td>2019-02-11 09:00:00</td>\n",
       "      <td>5.0 10.0 20.0 30.0 50.0 75.0 100.0 150.0 200.0...</td>\n",
       "      <td>m</td>\n",
       "      <td>mo-atmospheric-mogreps-uk-prd</td>\n",
       "      <td>air_temperature</td>\n",
       "      <td>345797589</td>\n",
       "      <td>NaN</td>\n",
       "      <td>NaN</td>\n",
       "      <td>0 12 13 14 15 16 17 18 19 20 21 22</td>\n",
       "      <td>2019-02-11T09:00:00Z</td>\n",
       "      <td>1550132971</td>\n",
       "    </tr>\n",
       "    <tr>\n",
       "      <th>7599f8b74223bb31f2d3b6a862cd7ca14f29e26c.nc</th>\n",
       "      <td>informatics-aws-earth-staging</td>\n",
       "      <td>NaN</td>\n",
       "      <td>2019-02-11T12:58:35Z</td>\n",
       "      <td>NaN</td>\n",
       "      <td>NaN</td>\n",
       "      <td>3600.0</td>\n",
       "      <td>NaN</td>\n",
       "      <td>seconds</td>\n",
       "      <td>2019-02-11 09:00:00</td>\n",
       "      <td>5.0 10.0 20.0 30.0 50.0 75.0 100.0 150.0 200.0...</td>\n",
       "      <td>m</td>\n",
       "      <td>mo-atmospheric-mogreps-uk-prd</td>\n",
       "      <td>air_temperature</td>\n",
       "      <td>339661112</td>\n",
       "      <td>NaN</td>\n",
       "      <td>NaN</td>\n",
       "      <td>0 12 13 14 15 16 17 18 19 20 21 22</td>\n",
       "      <td>2019-02-11T10:00:00Z</td>\n",
       "      <td>1550131563</td>\n",
       "    </tr>\n",
       "    <tr>\n",
       "      <th>3b7e78618b581b882d36b5f11646be48a78314d4.nc</th>\n",
       "      <td>informatics-aws-earth-staging</td>\n",
       "      <td>NaN</td>\n",
       "      <td>2019-02-11T12:58:35Z</td>\n",
       "      <td>NaN</td>\n",
       "      <td>NaN</td>\n",
       "      <td>7200.0</td>\n",
       "      <td>NaN</td>\n",
       "      <td>seconds</td>\n",
       "      <td>2019-02-11 09:00:00</td>\n",
       "      <td>5.0 10.0 20.0 30.0 50.0 75.0 100.0 150.0 200.0...</td>\n",
       "      <td>m</td>\n",
       "      <td>mo-atmospheric-mogreps-uk-prd</td>\n",
       "      <td>air_temperature</td>\n",
       "      <td>337715255</td>\n",
       "      <td>NaN</td>\n",
       "      <td>NaN</td>\n",
       "      <td>0 12 13 14 15 16 17 18 19 20 21 22</td>\n",
       "      <td>2019-02-11T11:00:00Z</td>\n",
       "      <td>1550133303</td>\n",
       "    </tr>\n",
       "  </tbody>\n",
       "</table>\n",
       "</div>"
      ],
      "text/plain": [
       "                                                                    bucket  \\\n",
       "key                                                                          \n",
       "ed9b728d51491b993b77b04eadb43a2eaf770a62.nc  informatics-aws-earth-staging   \n",
       "7599f8b74223bb31f2d3b6a862cd7ca14f29e26c.nc  informatics-aws-earth-staging   \n",
       "3b7e78618b581b882d36b5f11646be48a78314d4.nc  informatics-aws-earth-staging   \n",
       "\n",
       "                                            cell_methods  \\\n",
       "key                                                        \n",
       "ed9b728d51491b993b77b04eadb43a2eaf770a62.nc          NaN   \n",
       "7599f8b74223bb31f2d3b6a862cd7ca14f29e26c.nc          NaN   \n",
       "3b7e78618b581b882d36b5f11646be48a78314d4.nc          NaN   \n",
       "\n",
       "                                                     created_time depth  \\\n",
       "key                                                                       \n",
       "ed9b728d51491b993b77b04eadb43a2eaf770a62.nc  2019-02-11T12:58:35Z   NaN   \n",
       "7599f8b74223bb31f2d3b6a862cd7ca14f29e26c.nc  2019-02-11T12:58:35Z   NaN   \n",
       "3b7e78618b581b882d36b5f11646be48a78314d4.nc  2019-02-11T12:58:35Z   NaN   \n",
       "\n",
       "                                            depth_units  forecast_period  \\\n",
       "key                                                                        \n",
       "ed9b728d51491b993b77b04eadb43a2eaf770a62.nc         NaN              0.0   \n",
       "7599f8b74223bb31f2d3b6a862cd7ca14f29e26c.nc         NaN           3600.0   \n",
       "3b7e78618b581b882d36b5f11646be48a78314d4.nc         NaN           7200.0   \n",
       "\n",
       "                                            forecast_period_bounds  \\\n",
       "key                                                                  \n",
       "ed9b728d51491b993b77b04eadb43a2eaf770a62.nc                    NaN   \n",
       "7599f8b74223bb31f2d3b6a862cd7ca14f29e26c.nc                    NaN   \n",
       "3b7e78618b581b882d36b5f11646be48a78314d4.nc                    NaN   \n",
       "\n",
       "                                            forecast_period_units  \\\n",
       "key                                                                 \n",
       "ed9b728d51491b993b77b04eadb43a2eaf770a62.nc               seconds   \n",
       "7599f8b74223bb31f2d3b6a862cd7ca14f29e26c.nc               seconds   \n",
       "3b7e78618b581b882d36b5f11646be48a78314d4.nc               seconds   \n",
       "\n",
       "                                            forecast_reference_time  \\\n",
       "key                                                                   \n",
       "ed9b728d51491b993b77b04eadb43a2eaf770a62.nc     2019-02-11 09:00:00   \n",
       "7599f8b74223bb31f2d3b6a862cd7ca14f29e26c.nc     2019-02-11 09:00:00   \n",
       "3b7e78618b581b882d36b5f11646be48a78314d4.nc     2019-02-11 09:00:00   \n",
       "\n",
       "                                                                                        height  \\\n",
       "key                                                                                              \n",
       "ed9b728d51491b993b77b04eadb43a2eaf770a62.nc  5.0 10.0 20.0 30.0 50.0 75.0 100.0 150.0 200.0...   \n",
       "7599f8b74223bb31f2d3b6a862cd7ca14f29e26c.nc  5.0 10.0 20.0 30.0 50.0 75.0 100.0 150.0 200.0...   \n",
       "3b7e78618b581b882d36b5f11646be48a78314d4.nc  5.0 10.0 20.0 30.0 50.0 75.0 100.0 150.0 200.0...   \n",
       "\n",
       "                                            height_units  \\\n",
       "key                                                        \n",
       "ed9b728d51491b993b77b04eadb43a2eaf770a62.nc            m   \n",
       "7599f8b74223bb31f2d3b6a862cd7ca14f29e26c.nc            m   \n",
       "3b7e78618b581b882d36b5f11646be48a78314d4.nc            m   \n",
       "\n",
       "                                                                     model  \\\n",
       "key                                                                          \n",
       "ed9b728d51491b993b77b04eadb43a2eaf770a62.nc  mo-atmospheric-mogreps-uk-prd   \n",
       "7599f8b74223bb31f2d3b6a862cd7ca14f29e26c.nc  mo-atmospheric-mogreps-uk-prd   \n",
       "3b7e78618b581b882d36b5f11646be48a78314d4.nc  mo-atmospheric-mogreps-uk-prd   \n",
       "\n",
       "                                                        name object_size  \\\n",
       "key                                                                        \n",
       "ed9b728d51491b993b77b04eadb43a2eaf770a62.nc  air_temperature   345797589   \n",
       "7599f8b74223bb31f2d3b6a862cd7ca14f29e26c.nc  air_temperature   339661112   \n",
       "3b7e78618b581b882d36b5f11646be48a78314d4.nc  air_temperature   337715255   \n",
       "\n",
       "                                            pressure pressure_units  \\\n",
       "key                                                                   \n",
       "ed9b728d51491b993b77b04eadb43a2eaf770a62.nc      NaN            NaN   \n",
       "7599f8b74223bb31f2d3b6a862cd7ca14f29e26c.nc      NaN            NaN   \n",
       "3b7e78618b581b882d36b5f11646be48a78314d4.nc      NaN            NaN   \n",
       "\n",
       "                                                                    realization  \\\n",
       "key                                                                               \n",
       "ed9b728d51491b993b77b04eadb43a2eaf770a62.nc  0 12 13 14 15 16 17 18 19 20 21 22   \n",
       "7599f8b74223bb31f2d3b6a862cd7ca14f29e26c.nc  0 12 13 14 15 16 17 18 19 20 21 22   \n",
       "3b7e78618b581b882d36b5f11646be48a78314d4.nc  0 12 13 14 15 16 17 18 19 20 21 22   \n",
       "\n",
       "                                                             time         ttl  \n",
       "key                                                                            \n",
       "ed9b728d51491b993b77b04eadb43a2eaf770a62.nc  2019-02-11T09:00:00Z  1550132971  \n",
       "7599f8b74223bb31f2d3b6a862cd7ca14f29e26c.nc  2019-02-11T10:00:00Z  1550131563  \n",
       "3b7e78618b581b882d36b5f11646be48a78314d4.nc  2019-02-11T11:00:00Z  1550133303  "
      ]
     },
     "execution_count": 8,
     "metadata": {},
     "output_type": "execute_result"
    }
   ],
   "source": [
    "manifest_filter = (manifest.model == model) & (manifest.name == param) & (manifest.created_time.str.startswith('2019'))\n",
    "if multi_height is True:\n",
    "    manifest_filter &= (manifest.height.str.contains('5.0 10.0'))\n",
    "\n",
    "if cell_methods:\n",
    "    manifest_filter &= (manifest.cell_methods == cell_methods)\n",
    "else:\n",
    "    manifest_filter &= (manifest.cell_methods != manifest.cell_methods)\n",
    "    \n",
    "\n",
    "    \n",
    "data_set = manifest[manifest_filter]\n",
    "\n",
    "data_set.forecast_reference_time = pd.to_datetime(data_set.forecast_reference_time)\n",
    "data_set.forecast_period = data_set.forecast_period.astype(float)\n",
    "data_set = data_set.sort_values('forecast_period').sort_values('forecast_reference_time')\n",
    "runs = sorted(data_set.forecast_reference_time.unique(), reverse=True)\n",
    "\n",
    "\n",
    "runs = runs[1:]\n",
    "runs\n",
    "\n",
    "start = cur = longest_run = runs[0]\n",
    "i = 0\n",
    "longest_length = 0\n",
    "for i, run in enumerate(runs):\n",
    "    if (start - run) > np.timedelta64(timedelta(hours=6)):\n",
    "        break\n",
    "        \n",
    "    run_length = len(data_set.forecast_period.unique())\n",
    "    if run_length > longest_length:\n",
    "        longest_length = run_length\n",
    "        longest_run = run\n",
    "    i+= 1\n",
    "\n",
    "    \n",
    "    \n",
    "one_run_data = data_set[data_set.forecast_reference_time == longest_run]\n",
    "one_run_data = one_run_data.sort_values('forecast_period')\n",
    "one_run_data.head(3)"
   ]
  },
  {
   "cell_type": "code",
   "execution_count": 10,
   "metadata": {},
   "outputs": [
    {
     "data": {
      "text/plain": [
       "'Forecast_period_step is 3600.0 seconds'"
      ]
     },
     "execution_count": 10,
     "metadata": {},
     "output_type": "execute_result"
    }
   ],
   "source": [
    "forecast_periods = sorted([float(p) for p in one_run_data.forecast_period.unique()])\n",
    "forecast_period_steps = set(forecast_periods[i+1] - forecast_periods[i] for i in range(len(forecast_periods) -1))\n",
    "assert len(forecast_period_steps) ==1, f\"Require constant forecast period step. Got {forecast_period_steps}\"\n",
    "forecast_period_step = forecast_period_steps.pop()\n",
    "f\"Forecast_period_step is {forecast_period_step} {one_run_data.iloc[0].forecast_period_units}\"\n"
   ]
  },
  {
   "cell_type": "code",
   "execution_count": 11,
   "metadata": {},
   "outputs": [
    {
     "data": {
      "text/plain": [
       "'forecast_reference_time_step is 21600.0 secs'"
      ]
     },
     "execution_count": 11,
     "metadata": {},
     "output_type": "execute_result"
    }
   ],
   "source": [
    "forecast_reference_times = sorted(data_set.forecast_reference_time.unique())\n",
    "forecast_reference_time_steps = set([(forecast_reference_times[i+1] - forecast_reference_times[i] ) / np.timedelta64(1, 's') for i in range(len(forecast_reference_times)-1)])\n",
    "assert len(forecast_reference_time_steps) == 1, f\"Require constant forecast reference time steps. Got {forecast_period_steps} seconds\"\n",
    "forecast_reference_time_step = forecast_reference_time_steps.pop()\n",
    "\n",
    "f\"forecast_reference_time_step is {forecast_reference_time_step} secs\""
   ]
  },
  {
   "cell_type": "code",
   "execution_count": 8,
   "metadata": {},
   "outputs": [
    {
     "data": {
      "text/plain": [
       "['/s3/informatics-aws-earth-staging/13ec14adacd2f70e6593264654cb5db03d9a9323.nc',\n",
       " '/s3/informatics-aws-earth-staging/15a6543e28fa1e3ec1f5bb83aaec6e3f18addf8b.nc',\n",
       " '/s3/informatics-aws-earth-staging/1cec458cf3de4173a78bdc56ce5e79d7cb7bcd99.nc',\n",
       " '/s3/informatics-aws-earth-staging/21184f6392c57de71f85938caae86cadfac21e32.nc',\n",
       " '/s3/informatics-aws-earth-staging/25f059621e4e405b9cf0f735fab91640e43c8159.nc']"
      ]
     },
     "execution_count": 8,
     "metadata": {},
     "output_type": "execute_result"
    }
   ],
   "source": [
    "# files = ['/s3/informatics-aws-earth-staging/' + key for key in data.index.get_level_values(0)]\n",
    "# files[3:8]"
   ]
  },
  {
   "cell_type": "markdown",
   "metadata": {},
   "source": [
    "## Load proto cube and reshape\n",
    "Reshape the proto cube such that it's the shape that we want for out final hyper-cube"
   ]
  },
  {
   "cell_type": "code",
   "execution_count": null,
   "metadata": {},
   "outputs": [],
   "source": [
    "# cubes = iris.load(files)\n",
    "# equalise_attributes(cubes)\n",
    "# cube = cubes.concatenate_cube()\n",
    "# cube.remove_coord('time')\n",
    "# iris.util.promote_aux_coord_to_dim_coord(cube, 'forecast_period')\n",
    "# proto_cube = iris.util.new_axis(cube, 'forecast_reference_time')\n",
    "# proto_cube"
   ]
  },
  {
   "cell_type": "code",
   "execution_count": 29,
   "metadata": {},
   "outputs": [
    {
     "data": {
      "text/plain": [
       "'Forecast_period_step is 3600'"
      ]
     },
     "execution_count": 29,
     "metadata": {},
     "output_type": "execute_result"
    }
   ],
   "source": [
    "# forecast_period = proto_cube.coord('forecast_period').points\n",
    "# forecast_period_steps = set(forecast_period[i+1] - forecast_period[i] for i in range(len(forecast_period)-1))\n",
    "# assert len(forecast_period_steps) == 1, f\"Require constant forecast period step. Got {forecast_period_steps}\"\n",
    "# forecast_period_step = forecast_period_steps.pop()\n",
    "# f\"Forecast_period_step is {forecast_period_step}\""
   ]
  },
  {
   "cell_type": "code",
   "execution_count": 12,
   "metadata": {},
   "outputs": [],
   "source": [
    "msg = json.loads(one_run_data.iloc[0].to_json())\n",
    "msg['key'] = one_run_data.index[0]"
   ]
  },
  {
   "cell_type": "code",
   "execution_count": 27,
   "metadata": {},
   "outputs": [
    {
     "name": "stdout",
     "output_type": "stream",
     "text": [
      "Run is 2019-02-11 09:00:00\n"
     ]
    },
    {
     "data": {
      "text/html": [
       "\n",
       "<style>\n",
       "  a.iris {\n",
       "      text-decoration: none !important;\n",
       "  }\n",
       "  table.iris {\n",
       "      white-space: pre;\n",
       "      border: 1px solid;\n",
       "      border-color: #9c9c9c;\n",
       "      font-family: monaco, monospace;\n",
       "  }\n",
       "  th.iris {\n",
       "      background: #303f3f;\n",
       "      color: #e0e0e0;\n",
       "      border-left: 1px solid;\n",
       "      border-color: #9c9c9c;\n",
       "      font-size: 1.05em;\n",
       "      min-width: 50px;\n",
       "      max-width: 125px;\n",
       "  }\n",
       "  tr.iris :first-child {\n",
       "      border-right: 1px solid #9c9c9c !important;\n",
       "  }\n",
       "  td.iris-title {\n",
       "      background: #d5dcdf;\n",
       "      border-top: 1px solid #9c9c9c;\n",
       "      font-weight: bold;\n",
       "  }\n",
       "  .iris-word-cell {\n",
       "      text-align: left !important;\n",
       "      white-space: pre;\n",
       "  }\n",
       "  .iris-subheading-cell {\n",
       "      padding-left: 2em !important;\n",
       "  }\n",
       "  .iris-inclusion-cell {\n",
       "      padding-right: 1em !important;\n",
       "  }\n",
       "  .iris-panel-body {\n",
       "      padding-top: 0px;\n",
       "  }\n",
       "  .iris-panel-title {\n",
       "      padding-left: 3em;\n",
       "  }\n",
       "  .iris-panel-title {\n",
       "      margin-top: 7px;\n",
       "  }\n",
       "</style>\n",
       "<table class=\"iris\" id=\"140022896942328\">\n",
       "    <tr class=\"iris\">\n",
       "<th class=\"iris iris-word-cell\">Air Temperature (K)</th>\n",
       "<th class=\"iris iris-word-cell\">forecast_reference_time</th>\n",
       "<th class=\"iris iris-word-cell\">forecast_period</th>\n",
       "<th class=\"iris iris-word-cell\">realization</th>\n",
       "<th class=\"iris iris-word-cell\">height</th>\n",
       "<th class=\"iris iris-word-cell\">projection_y_coordinate</th>\n",
       "<th class=\"iris iris-word-cell\">projection_x_coordinate</th>\n",
       "</tr>\n",
       "    <tr class=\"iris\">\n",
       "<td class=\"iris-word-cell iris-subheading-cell\">Shape</td>\n",
       "<td class=\"iris iris-inclusion-cell\">1</td>\n",
       "<td class=\"iris iris-inclusion-cell\">1</td>\n",
       "<td class=\"iris iris-inclusion-cell\">12</td>\n",
       "<td class=\"iris iris-inclusion-cell\">33</td>\n",
       "<td class=\"iris iris-inclusion-cell\">970</td>\n",
       "<td class=\"iris iris-inclusion-cell\">1042</td>\n",
       "</td>\n",
       "    <tr class=\"iris\">\n",
       "    <td class=\"iris-title iris-word-cell\">Dimension coordinates</td>\n",
       "    <td class=\"iris-title\"></td>\n",
       "    <td class=\"iris-title\"></td>\n",
       "    <td class=\"iris-title\"></td>\n",
       "    <td class=\"iris-title\"></td>\n",
       "    <td class=\"iris-title\"></td>\n",
       "    <td class=\"iris-title\"></td>\n",
       "</tr>\n",
       "<tr class=\"iris\">\n",
       "    <td class=\"iris-word-cell iris-subheading-cell\">\tforecast_reference_time</td>\n",
       "    <td class=\"iris-inclusion-cell\">x</td>\n",
       "    <td class=\"iris-inclusion-cell\">-</td>\n",
       "    <td class=\"iris-inclusion-cell\">-</td>\n",
       "    <td class=\"iris-inclusion-cell\">-</td>\n",
       "    <td class=\"iris-inclusion-cell\">-</td>\n",
       "    <td class=\"iris-inclusion-cell\">-</td>\n",
       "</tr>\n",
       "<tr class=\"iris\">\n",
       "    <td class=\"iris-word-cell iris-subheading-cell\">\tforecast_period</td>\n",
       "    <td class=\"iris-inclusion-cell\">-</td>\n",
       "    <td class=\"iris-inclusion-cell\">x</td>\n",
       "    <td class=\"iris-inclusion-cell\">-</td>\n",
       "    <td class=\"iris-inclusion-cell\">-</td>\n",
       "    <td class=\"iris-inclusion-cell\">-</td>\n",
       "    <td class=\"iris-inclusion-cell\">-</td>\n",
       "</tr>\n",
       "<tr class=\"iris\">\n",
       "    <td class=\"iris-word-cell iris-subheading-cell\">\trealization</td>\n",
       "    <td class=\"iris-inclusion-cell\">-</td>\n",
       "    <td class=\"iris-inclusion-cell\">-</td>\n",
       "    <td class=\"iris-inclusion-cell\">x</td>\n",
       "    <td class=\"iris-inclusion-cell\">-</td>\n",
       "    <td class=\"iris-inclusion-cell\">-</td>\n",
       "    <td class=\"iris-inclusion-cell\">-</td>\n",
       "</tr>\n",
       "<tr class=\"iris\">\n",
       "    <td class=\"iris-word-cell iris-subheading-cell\">\theight</td>\n",
       "    <td class=\"iris-inclusion-cell\">-</td>\n",
       "    <td class=\"iris-inclusion-cell\">-</td>\n",
       "    <td class=\"iris-inclusion-cell\">-</td>\n",
       "    <td class=\"iris-inclusion-cell\">x</td>\n",
       "    <td class=\"iris-inclusion-cell\">-</td>\n",
       "    <td class=\"iris-inclusion-cell\">-</td>\n",
       "</tr>\n",
       "<tr class=\"iris\">\n",
       "    <td class=\"iris-word-cell iris-subheading-cell\">\tprojection_y_coordinate</td>\n",
       "    <td class=\"iris-inclusion-cell\">-</td>\n",
       "    <td class=\"iris-inclusion-cell\">-</td>\n",
       "    <td class=\"iris-inclusion-cell\">-</td>\n",
       "    <td class=\"iris-inclusion-cell\">-</td>\n",
       "    <td class=\"iris-inclusion-cell\">x</td>\n",
       "    <td class=\"iris-inclusion-cell\">-</td>\n",
       "</tr>\n",
       "<tr class=\"iris\">\n",
       "    <td class=\"iris-word-cell iris-subheading-cell\">\tprojection_x_coordinate</td>\n",
       "    <td class=\"iris-inclusion-cell\">-</td>\n",
       "    <td class=\"iris-inclusion-cell\">-</td>\n",
       "    <td class=\"iris-inclusion-cell\">-</td>\n",
       "    <td class=\"iris-inclusion-cell\">-</td>\n",
       "    <td class=\"iris-inclusion-cell\">-</td>\n",
       "    <td class=\"iris-inclusion-cell\">x</td>\n",
       "</tr>\n",
       "<tr class=\"iris\">\n",
       "    <td class=\"iris-title iris-word-cell\">Scalar coordinates</td>\n",
       "    <td class=\"iris-title\"></td>\n",
       "    <td class=\"iris-title\"></td>\n",
       "    <td class=\"iris-title\"></td>\n",
       "    <td class=\"iris-title\"></td>\n",
       "    <td class=\"iris-title\"></td>\n",
       "    <td class=\"iris-title\"></td>\n",
       "</tr>\n",
       "<tr class=\"iris\">\n",
       "    <td class=\"iris-word-cell iris-subheading-cell\">\ttime</td>\n",
       "    <td class=\"iris-word-cell\" colspan=\"6\">2019-02-11 09:00:00</td>\n",
       "</tr>\n",
       "<tr class=\"iris\">\n",
       "    <td class=\"iris-title iris-word-cell\">Attributes</td>\n",
       "    <td class=\"iris-title\"></td>\n",
       "    <td class=\"iris-title\"></td>\n",
       "    <td class=\"iris-title\"></td>\n",
       "    <td class=\"iris-title\"></td>\n",
       "    <td class=\"iris-title\"></td>\n",
       "    <td class=\"iris-title\"></td>\n",
       "</tr>\n",
       "<tr class=\"iris\">\n",
       "    <td class=\"iris-word-cell iris-subheading-cell\">\tConventions</td>\n",
       "    <td class=\"iris-word-cell\" colspan=\"6\">CF-1.5, UKMO-1.0</td>\n",
       "</tr>\n",
       "<tr class=\"iris\">\n",
       "    <td class=\"iris-word-cell iris-subheading-cell\">\thistory</td>\n",
       "    <td class=\"iris-word-cell\" colspan=\"6\">2019-02-11T12:58:35Z: StaGE Decoupler</td>\n",
       "</tr>\n",
       "<tr class=\"iris\">\n",
       "    <td class=\"iris-word-cell iris-subheading-cell\">\tinstitution</td>\n",
       "    <td class=\"iris-word-cell\" colspan=\"6\">Met Office</td>\n",
       "</tr>\n",
       "<tr class=\"iris\">\n",
       "    <td class=\"iris-word-cell iris-subheading-cell\">\tleast_significant_digit</td>\n",
       "    <td class=\"iris-word-cell\" colspan=\"6\">1.0</td>\n",
       "</tr>\n",
       "<tr class=\"iris\">\n",
       "    <td class=\"iris-word-cell iris-subheading-cell\">\tmosg__forecast_run_duration</td>\n",
       "    <td class=\"iris-word-cell\" colspan=\"6\">PT54H</td>\n",
       "</tr>\n",
       "<tr class=\"iris\">\n",
       "    <td class=\"iris-word-cell iris-subheading-cell\">\tmosg__grid_domain</td>\n",
       "    <td class=\"iris-word-cell\" colspan=\"6\">uk_extended</td>\n",
       "</tr>\n",
       "<tr class=\"iris\">\n",
       "    <td class=\"iris-word-cell iris-subheading-cell\">\tmosg__grid_type</td>\n",
       "    <td class=\"iris-word-cell\" colspan=\"6\">standard</td>\n",
       "</tr>\n",
       "<tr class=\"iris\">\n",
       "    <td class=\"iris-word-cell iris-subheading-cell\">\tmosg__grid_version</td>\n",
       "    <td class=\"iris-word-cell\" colspan=\"6\">1.3.0</td>\n",
       "</tr>\n",
       "<tr class=\"iris\">\n",
       "    <td class=\"iris-word-cell iris-subheading-cell\">\tmosg__model_configuration</td>\n",
       "    <td class=\"iris-word-cell\" colspan=\"6\">uk_ens</td>\n",
       "</tr>\n",
       "<tr class=\"iris\">\n",
       "    <td class=\"iris-word-cell iris-subheading-cell\">\tsource</td>\n",
       "    <td class=\"iris-word-cell\" colspan=\"6\">Met Office Unified Model</td>\n",
       "</tr>\n",
       "<tr class=\"iris\">\n",
       "    <td class=\"iris-word-cell iris-subheading-cell\">\ttitle</td>\n",
       "    <td class=\"iris-word-cell\" colspan=\"6\">MOGREPS-UK Model Forecast on UK 2 km Standard Grid</td>\n",
       "</tr>\n",
       "<tr class=\"iris\">\n",
       "    <td class=\"iris-word-cell iris-subheading-cell\">\tum_version</td>\n",
       "    <td class=\"iris-word-cell\" colspan=\"6\">10.9</td>\n",
       "</tr>\n",
       "</table>\n",
       "        "
      ],
      "text/plain": [
       "<iris 'Cube' of air_temperature / (K) (forecast_reference_time: 1; forecast_period: 1; realization: 12; height: 33; projection_y_coordinate: 970; projection_x_coordinate: 1042)>"
      ]
     },
     "execution_count": 27,
     "metadata": {},
     "output_type": "execute_result"
    }
   ],
   "source": [
    "cube = iris.load_cube(msg_to_path(msg))\n",
    "proto_cube = reshape_to_dest_cube(cube)\n",
    "print(f\"Run is {list(proto_cube.coord('forecast_reference_time').cells())[0].point}\")\n",
    "proto_cube"
   ]
  },
  {
   "cell_type": "markdown",
   "metadata": {},
   "source": [
    "## Define chunks \n",
    "Chunk sizes must be factors of our proto cube shape so that any chunk is only writen to by one file."
   ]
  },
  {
   "cell_type": "code",
   "execution_count": 125,
   "metadata": {},
   "outputs": [
    {
     "name": "stdout",
     "output_type": "stream",
     "text": [
      "chunks = [1, 1, 3, 11, 970, 1042]\n"
     ]
    }
   ],
   "source": [
    "def get_chunks(cube):\n",
    "    chunks = []\n",
    "    unit_chunk = ['forecast_reference_time','forecast_period']\n",
    "    full_chunk = ['latitude','longitude','grid_latitude','grid_longitude','projection_y_coordinate','projection_x_coordinate']\n",
    "    for i, coord in enumerate(cube.dim_coords):\n",
    "        chunk = None\n",
    "        if coord.name() in unit_chunk:\n",
    "            chunk = 1\n",
    "\n",
    "        elif coord.name() in full_chunk:\n",
    "            chunk = proto_cube.shape[i]\n",
    "\n",
    "        else:\n",
    "            for factor in [11,7,5,3,2,1]:\n",
    "                if proto_cube.shape[i] % factor == 0:\n",
    "                    chunk = factor\n",
    "                    break\n",
    "\n",
    "        if chunk is None:\n",
    "            raise ValueError(f\"Don't know how to chunk coord {coord.name()}, shape {cube.shape[i]}\")\n",
    "\n",
    "        chunks.append(chunk)\n",
    "    return chunks\n",
    "        \n",
    "    \n",
    "    \n",
    "chunks = get_chunks(proto_cube)\n",
    "assert len(chunks) == len(proto_cube.shape)\n",
    "assert sum([a%b for a,b in zip(proto_cube.shape, chunks)]) == 0 # No chunk should be in more than one file\n",
    "print(f\"chunks = {chunks}\")"
   ]
  },
  {
   "cell_type": "markdown",
   "metadata": {},
   "source": [
    "## Convert to xarray and save\n",
    "Since xarray can nativly write zarr and Iris not lets convert.\n",
    "We also need to rechunck the array to match our desired chunk format"
   ]
  },
  {
   "cell_type": "code",
   "execution_count": 144,
   "metadata": {},
   "outputs": [],
   "source": [
    "xproto = xarray.DataArray.from_iris(proto_cube)\n",
    "xproto_chunked = xproto.chunk(chunks)\n",
    "ds = xproto_chunked.to_dataset()"
   ]
  },
  {
   "cell_type": "code",
   "execution_count": 145,
   "metadata": {},
   "outputs": [
    {
     "name": "stdout",
     "output_type": "stream",
     "text": [
      "Saving at s3://metoffice-aws-earth-zarr/mo-atmospheric-mogreps-uk-prd-air_temperature-at_heights.zarr\n"
     ]
    }
   ],
   "source": [
    "print(\"Saving at s3://\"+get_zar_path(msg))"
   ]
  },
  {
   "cell_type": "code",
   "execution_count": 146,
   "metadata": {},
   "outputs": [
    {
     "data": {
      "application/vnd.jupyter.widget-view+json": {
       "model_id": "5c5886d63ff94c4686f0e972719b3921",
       "version_major": 2,
       "version_minor": 0
      },
      "text/plain": [
       "VBox(children=(HTML(value='<h2>KubeCluster</h2>'), HBox(children=(HTML(value='\\n<div>\\n  <style scoped>\\n    .…"
      ]
     },
     "metadata": {},
     "output_type": "display_data"
    }
   ],
   "source": [
    "# Create a cluster. Need to ensure it has write access to the write dest of the Zarr, hence using the template which has AWS keys in as Env vars\n",
    "import dask_kubernetes\n",
    "import distributed\n",
    "dask_worker_template = os.path.expanduser(\"~/ota/small-worker-template.yaml\")\n",
    "cluster = dask_kubernetes.KubeCluster.from_yaml(dask_worker_template)\n",
    "cluster.adapt(minimum=0,maximum=40)\n",
    "c = distributed.Client(cluster)\n",
    "cluster"
   ]
  },
  {
   "cell_type": "code",
   "execution_count": 147,
   "metadata": {},
   "outputs": [
    {
     "name": "stdout",
     "output_type": "stream",
     "text": [
      "delete: s3://metoffice-aws-earth-zarr/mo-atmospheric-mogreps-uk-prd-air_temperature-at_heights.zarr/air_temperature/.zattrs\n",
      "delete: s3://metoffice-aws-earth-zarr/mo-atmospheric-mogreps-uk-prd-air_temperature-at_heights.zarr/air_temperature/0.0.0.0.0.0\n",
      "delete: s3://metoffice-aws-earth-zarr/mo-atmospheric-mogreps-uk-prd-air_temperature-at_heights.zarr/air_temperature/.zarray\n",
      "delete: s3://metoffice-aws-earth-zarr/mo-atmospheric-mogreps-uk-prd-air_temperature-at_heights.zarr/air_temperature/0.0.3.1.0.0\n",
      "delete: s3://metoffice-aws-earth-zarr/mo-atmospheric-mogreps-uk-prd-air_temperature-at_heights.zarr/air_temperature/0.0.0.1.0.0\n",
      "delete: s3://metoffice-aws-earth-zarr/mo-atmospheric-mogreps-uk-prd-air_temperature-at_heights.zarr/.zattrs\n",
      "delete: s3://metoffice-aws-earth-zarr/mo-atmospheric-mogreps-uk-prd-air_temperature-at_heights.zarr/air_temperature/0.0.1.1.0.0\n",
      "delete: s3://metoffice-aws-earth-zarr/mo-atmospheric-mogreps-uk-prd-air_temperature-at_heights.zarr/air_temperature/0.0.1.0.0.0\n",
      "delete: s3://metoffice-aws-earth-zarr/mo-atmospheric-mogreps-uk-prd-air_temperature-at_heights.zarr/air_temperature/0.0.2.0.0.0\n",
      "delete: s3://metoffice-aws-earth-zarr/mo-atmospheric-mogreps-uk-prd-air_temperature-at_heights.zarr/air_temperature/0.0.3.2.0.0\n",
      "delete: s3://metoffice-aws-earth-zarr/mo-atmospheric-mogreps-uk-prd-air_temperature-at_heights.zarr/air_temperature/0.0.2.2.0.0\n",
      "delete: s3://metoffice-aws-earth-zarr/mo-atmospheric-mogreps-uk-prd-air_temperature-at_heights.zarr/air_temperature/0.0.0.2.0.0\n",
      "delete: s3://metoffice-aws-earth-zarr/mo-atmospheric-mogreps-uk-prd-air_temperature-at_heights.zarr/air_temperature/0.0.1.2.0.0\n",
      "delete: s3://metoffice-aws-earth-zarr/mo-atmospheric-mogreps-uk-prd-air_temperature-at_heights.zarr/forecast_period/.zattrs\n",
      "delete: s3://metoffice-aws-earth-zarr/mo-atmospheric-mogreps-uk-prd-air_temperature-at_heights.zarr/air_temperature/0.0.3.0.0.0\n",
      "delete: s3://metoffice-aws-earth-zarr/mo-atmospheric-mogreps-uk-prd-air_temperature-at_heights.zarr/forecast_period/13\n",
      "delete: s3://metoffice-aws-earth-zarr/mo-atmospheric-mogreps-uk-prd-air_temperature-at_heights.zarr/air_temperature/0.0.2.1.0.0\n",
      "delete: s3://metoffice-aws-earth-zarr/mo-atmospheric-mogreps-uk-prd-air_temperature-at_heights.zarr/forecast_period/10\n",
      "delete: s3://metoffice-aws-earth-zarr/mo-atmospheric-mogreps-uk-prd-air_temperature-at_heights.zarr/forecast_period/14\n",
      "delete: s3://metoffice-aws-earth-zarr/mo-atmospheric-mogreps-uk-prd-air_temperature-at_heights.zarr/forecast_period/0\n",
      "delete: s3://metoffice-aws-earth-zarr/mo-atmospheric-mogreps-uk-prd-air_temperature-at_heights.zarr/forecast_period/16\n",
      "delete: s3://metoffice-aws-earth-zarr/mo-atmospheric-mogreps-uk-prd-air_temperature-at_heights.zarr/forecast_period/15\n",
      "delete: s3://metoffice-aws-earth-zarr/mo-atmospheric-mogreps-uk-prd-air_temperature-at_heights.zarr/forecast_period/.zarray\n",
      "delete: s3://metoffice-aws-earth-zarr/mo-atmospheric-mogreps-uk-prd-air_temperature-at_heights.zarr/forecast_period/17\n",
      "delete: s3://metoffice-aws-earth-zarr/mo-atmospheric-mogreps-uk-prd-air_temperature-at_heights.zarr/forecast_period/12\n",
      "delete: s3://metoffice-aws-earth-zarr/mo-atmospheric-mogreps-uk-prd-air_temperature-at_heights.zarr/forecast_period/22\n",
      "delete: s3://metoffice-aws-earth-zarr/mo-atmospheric-mogreps-uk-prd-air_temperature-at_heights.zarr/forecast_period/1\n",
      "delete: s3://metoffice-aws-earth-zarr/mo-atmospheric-mogreps-uk-prd-air_temperature-at_heights.zarr/forecast_period/21\n",
      "delete: s3://metoffice-aws-earth-zarr/mo-atmospheric-mogreps-uk-prd-air_temperature-at_heights.zarr/forecast_period/25\n",
      "delete: s3://metoffice-aws-earth-zarr/mo-atmospheric-mogreps-uk-prd-air_temperature-at_heights.zarr/forecast_period/23\n",
      "delete: s3://metoffice-aws-earth-zarr/mo-atmospheric-mogreps-uk-prd-air_temperature-at_heights.zarr/forecast_period/19\n",
      "delete: s3://metoffice-aws-earth-zarr/mo-atmospheric-mogreps-uk-prd-air_temperature-at_heights.zarr/forecast_period/20\n",
      "delete: s3://metoffice-aws-earth-zarr/mo-atmospheric-mogreps-uk-prd-air_temperature-at_heights.zarr/forecast_period/18\n",
      "delete: s3://metoffice-aws-earth-zarr/mo-atmospheric-mogreps-uk-prd-air_temperature-at_heights.zarr/forecast_period/2\n",
      "delete: s3://metoffice-aws-earth-zarr/mo-atmospheric-mogreps-uk-prd-air_temperature-at_heights.zarr/forecast_period/24\n",
      "delete: s3://metoffice-aws-earth-zarr/mo-atmospheric-mogreps-uk-prd-air_temperature-at_heights.zarr/.zgroup\n",
      "delete: s3://metoffice-aws-earth-zarr/mo-atmospheric-mogreps-uk-prd-air_temperature-at_heights.zarr/forecast_period/29\n",
      "delete: s3://metoffice-aws-earth-zarr/mo-atmospheric-mogreps-uk-prd-air_temperature-at_heights.zarr/forecast_period/26\n",
      "delete: s3://metoffice-aws-earth-zarr/mo-atmospheric-mogreps-uk-prd-air_temperature-at_heights.zarr/forecast_period/28\n",
      "delete: s3://metoffice-aws-earth-zarr/mo-atmospheric-mogreps-uk-prd-air_temperature-at_heights.zarr/forecast_period/3\n",
      "delete: s3://metoffice-aws-earth-zarr/mo-atmospheric-mogreps-uk-prd-air_temperature-at_heights.zarr/forecast_period/30\n",
      "delete: s3://metoffice-aws-earth-zarr/mo-atmospheric-mogreps-uk-prd-air_temperature-at_heights.zarr/forecast_period/11\n",
      "delete: s3://metoffice-aws-earth-zarr/mo-atmospheric-mogreps-uk-prd-air_temperature-at_heights.zarr/forecast_period/31\n",
      "delete: s3://metoffice-aws-earth-zarr/mo-atmospheric-mogreps-uk-prd-air_temperature-at_heights.zarr/forecast_period/33\n",
      "delete: s3://metoffice-aws-earth-zarr/mo-atmospheric-mogreps-uk-prd-air_temperature-at_heights.zarr/forecast_period/27\n",
      "delete: s3://metoffice-aws-earth-zarr/mo-atmospheric-mogreps-uk-prd-air_temperature-at_heights.zarr/forecast_period/32\n",
      "delete: s3://metoffice-aws-earth-zarr/mo-atmospheric-mogreps-uk-prd-air_temperature-at_heights.zarr/forecast_period/4\n",
      "delete: s3://metoffice-aws-earth-zarr/mo-atmospheric-mogreps-uk-prd-air_temperature-at_heights.zarr/forecast_period/34\n",
      "delete: s3://metoffice-aws-earth-zarr/mo-atmospheric-mogreps-uk-prd-air_temperature-at_heights.zarr/forecast_period/39\n",
      "delete: s3://metoffice-aws-earth-zarr/mo-atmospheric-mogreps-uk-prd-air_temperature-at_heights.zarr/forecast_period/35\n",
      "delete: s3://metoffice-aws-earth-zarr/mo-atmospheric-mogreps-uk-prd-air_temperature-at_heights.zarr/forecast_period/40\n",
      "delete: s3://metoffice-aws-earth-zarr/mo-atmospheric-mogreps-uk-prd-air_temperature-at_heights.zarr/forecast_period/42\n",
      "delete: s3://metoffice-aws-earth-zarr/mo-atmospheric-mogreps-uk-prd-air_temperature-at_heights.zarr/forecast_period/41\n",
      "delete: s3://metoffice-aws-earth-zarr/mo-atmospheric-mogreps-uk-prd-air_temperature-at_heights.zarr/forecast_period/47\n",
      "delete: s3://metoffice-aws-earth-zarr/mo-atmospheric-mogreps-uk-prd-air_temperature-at_heights.zarr/forecast_period/46\n",
      "delete: s3://metoffice-aws-earth-zarr/mo-atmospheric-mogreps-uk-prd-air_temperature-at_heights.zarr/forecast_period/38\n",
      "delete: s3://metoffice-aws-earth-zarr/mo-atmospheric-mogreps-uk-prd-air_temperature-at_heights.zarr/forecast_period/48\n",
      "delete: s3://metoffice-aws-earth-zarr/mo-atmospheric-mogreps-uk-prd-air_temperature-at_heights.zarr/forecast_period/37\n",
      "delete: s3://metoffice-aws-earth-zarr/mo-atmospheric-mogreps-uk-prd-air_temperature-at_heights.zarr/forecast_period/52\n",
      "delete: s3://metoffice-aws-earth-zarr/mo-atmospheric-mogreps-uk-prd-air_temperature-at_heights.zarr/forecast_period/43\n",
      "delete: s3://metoffice-aws-earth-zarr/mo-atmospheric-mogreps-uk-prd-air_temperature-at_heights.zarr/forecast_period/36\n",
      "delete: s3://metoffice-aws-earth-zarr/mo-atmospheric-mogreps-uk-prd-air_temperature-at_heights.zarr/forecast_period/44\n",
      "delete: s3://metoffice-aws-earth-zarr/mo-atmospheric-mogreps-uk-prd-air_temperature-at_heights.zarr/forecast_period/45\n",
      "delete: s3://metoffice-aws-earth-zarr/mo-atmospheric-mogreps-uk-prd-air_temperature-at_heights.zarr/forecast_period/50\n",
      "delete: s3://metoffice-aws-earth-zarr/mo-atmospheric-mogreps-uk-prd-air_temperature-at_heights.zarr/forecast_period/53\n",
      "delete: s3://metoffice-aws-earth-zarr/mo-atmospheric-mogreps-uk-prd-air_temperature-at_heights.zarr/forecast_period/54\n",
      "delete: s3://metoffice-aws-earth-zarr/mo-atmospheric-mogreps-uk-prd-air_temperature-at_heights.zarr/forecast_period/5\n",
      "delete: s3://metoffice-aws-earth-zarr/mo-atmospheric-mogreps-uk-prd-air_temperature-at_heights.zarr/forecast_period/6\n",
      "delete: s3://metoffice-aws-earth-zarr/mo-atmospheric-mogreps-uk-prd-air_temperature-at_heights.zarr/forecast_period/51\n",
      "delete: s3://metoffice-aws-earth-zarr/mo-atmospheric-mogreps-uk-prd-air_temperature-at_heights.zarr/forecast_period/49\n",
      "delete: s3://metoffice-aws-earth-zarr/mo-atmospheric-mogreps-uk-prd-air_temperature-at_heights.zarr/forecast_reference_time/.zarray\n",
      "delete: s3://metoffice-aws-earth-zarr/mo-atmospheric-mogreps-uk-prd-air_temperature-at_heights.zarr/forecast_reference_time/.zattrs\n",
      "delete: s3://metoffice-aws-earth-zarr/mo-atmospheric-mogreps-uk-prd-air_temperature-at_heights.zarr/forecast_period/8\n",
      "delete: s3://metoffice-aws-earth-zarr/mo-atmospheric-mogreps-uk-prd-air_temperature-at_heights.zarr/height/.zattrs\n",
      "delete: s3://metoffice-aws-earth-zarr/mo-atmospheric-mogreps-uk-prd-air_temperature-at_heights.zarr/projection_x_coordinate/.zarray\n",
      "delete: s3://metoffice-aws-earth-zarr/mo-atmospheric-mogreps-uk-prd-air_temperature-at_heights.zarr/height/0\n",
      "delete: s3://metoffice-aws-earth-zarr/mo-atmospheric-mogreps-uk-prd-air_temperature-at_heights.zarr/forecast_period/9\n",
      "delete: s3://metoffice-aws-earth-zarr/mo-atmospheric-mogreps-uk-prd-air_temperature-at_heights.zarr/forecast_period/7\n",
      "delete: s3://metoffice-aws-earth-zarr/mo-atmospheric-mogreps-uk-prd-air_temperature-at_heights.zarr/projection_x_coordinate/.zattrs\n",
      "delete: s3://metoffice-aws-earth-zarr/mo-atmospheric-mogreps-uk-prd-air_temperature-at_heights.zarr/height/.zarray\n",
      "delete: s3://metoffice-aws-earth-zarr/mo-atmospheric-mogreps-uk-prd-air_temperature-at_heights.zarr/forecast_reference_time/0\n",
      "delete: s3://metoffice-aws-earth-zarr/mo-atmospheric-mogreps-uk-prd-air_temperature-at_heights.zarr/realization/.zattrs\n",
      "delete: s3://metoffice-aws-earth-zarr/mo-atmospheric-mogreps-uk-prd-air_temperature-at_heights.zarr/projection_x_coordinate/0\n",
      "delete: s3://metoffice-aws-earth-zarr/mo-atmospheric-mogreps-uk-prd-air_temperature-at_heights.zarr/projection_y_coordinate/.zarray\n",
      "delete: s3://metoffice-aws-earth-zarr/mo-atmospheric-mogreps-uk-prd-air_temperature-at_heights.zarr/projection_y_coordinate/0\n",
      "delete: s3://metoffice-aws-earth-zarr/mo-atmospheric-mogreps-uk-prd-air_temperature-at_heights.zarr/projection_y_coordinate/.zattrs\n",
      "delete: s3://metoffice-aws-earth-zarr/mo-atmospheric-mogreps-uk-prd-air_temperature-at_heights.zarr/realization/.zarray\n",
      "delete: s3://metoffice-aws-earth-zarr/mo-atmospheric-mogreps-uk-prd-air_temperature-at_heights.zarr/time/.zarray\n",
      "delete: s3://metoffice-aws-earth-zarr/mo-atmospheric-mogreps-uk-prd-air_temperature-at_heights.zarr/realization/0\n",
      "delete: s3://metoffice-aws-earth-zarr/mo-atmospheric-mogreps-uk-prd-air_temperature-at_heights.zarr/time/.zattrs\n",
      "delete: s3://metoffice-aws-earth-zarr/mo-atmospheric-mogreps-uk-prd-air_temperature-at_heights.zarr/time/0\n"
     ]
    }
   ],
   "source": [
    "!aws s3 rm --recursive s3://{get_zar_path(msg)}\n",
    "compressor = Blosc(cname='zstd', clevel=3, shuffle=Blosc.BITSHUFFLE)\n",
    "store = OffSetS3Map(root=get_zar_path(msg), temp_chunk_path=param, check=False)\n",
    "encoding={proto_cube.name(): {'compressor': compressor}}"
   ]
  },
  {
   "cell_type": "code",
   "execution_count": 148,
   "metadata": {},
   "outputs": [
    {
     "data": {
      "text/plain": [
       "<xarray.backends.zarr.ZarrStore at 0x7f61f2942e10>"
      ]
     },
     "execution_count": 148,
     "metadata": {},
     "output_type": "execute_result"
    }
   ],
   "source": [
    "ds.to_zarr(store=store, encoding=encoding)"
   ]
  },
  {
   "cell_type": "code",
   "execution_count": null,
   "metadata": {},
   "outputs": [],
   "source": [
    "del c\n",
    "del cluster\n",
    "dask.config.set(scheduler=None)"
   ]
  },
  {
   "cell_type": "markdown",
   "metadata": {},
   "source": [
    "## Proto cube complete\n",
    "We now have our proto cube built\n",
    "We should be able to load the data part as a zarr array\n"
   ]
  },
  {
   "cell_type": "markdown",
   "metadata": {},
   "source": [
    "## Load the data array"
   ]
  },
  {
   "cell_type": "code",
   "execution_count": 150,
   "metadata": {},
   "outputs": [
    {
     "data": {
      "text/plain": [
       "<zarr.core.Array (1, 1, 12, 33, 970, 1042) float32>"
      ]
     },
     "execution_count": 150,
     "metadata": {},
     "output_type": "execute_result"
    }
   ],
   "source": [
    "z_arr = get_proto_zarr_array(msg)\n",
    "z_arr"
   ]
  },
  {
   "cell_type": "code",
   "execution_count": 151,
   "metadata": {},
   "outputs": [],
   "source": [
    "# Check chunking is as expeted\n",
    "assert list(z_arr.chunks) == chunks"
   ]
  },
  {
   "cell_type": "markdown",
   "metadata": {},
   "source": [
    "## Add metadata to allow index caluclation\n",
    "When a new file comes in we need to be able to work out where in the n-d space it belongs. To do this we define the `origin` for the zarr array for each of the dims and we also define a step along that dim. If step is None then assume that the file is already at the origin for that dimention. We add the `origin` to the zarr attrs at `_origin`.\n",
    "We write this info back into the zarr"
   ]
  },
  {
   "cell_type": "markdown",
   "metadata": {},
   "source": [
    "* mo-atmospheric-mogreps-uk-prd: 3600 for step.Interval 6H at 15, 21, 03, 09\n",
    "* mo-atmospheric-ukv-prd: 3600 for step. Interval 1H\n",
    "* mo-atmospheric-mogreps-g-prd:10800 for step.  Interval 6H at 12,18,00,06\n",
    "* mo-atmospheric-global-prd: {3600, 10800} for step. Interval 6H at 12,18,00,06"
   ]
  },
  {
   "cell_type": "code",
   "execution_count": 24,
   "metadata": {},
   "outputs": [
    {
     "name": "stdout",
     "output_type": "stream",
     "text": [
      "name forecast_reference_time unit seconds since 1970-01-01 00:00:00\n",
      "name forecast_period unit seconds\n",
      "name realization unit 1\n",
      "name height unit m\n",
      "name projection_y_coordinate unit m\n",
      "name projection_x_coordinate unit m\n"
     ]
    }
   ],
   "source": [
    "for c  in proto_cube.dim_coords:\n",
    "    print( f'name {c.name()} unit {str(c.units)}')"
   ]
  },
  {
   "cell_type": "code",
   "execution_count": 152,
   "metadata": {},
   "outputs": [
    {
     "data": {
      "text/plain": [
       "[{'name': 'forecast_reference_time',\n",
       "  'unit': 'seconds since 1970-01-01 00:00:00',\n",
       "  'at': 1547521200.0,\n",
       "  'step': 21600.0},\n",
       " {'name': 'forecast_period', 'unit': 'seconds', 'at': 0.0, 'step': 3600.0},\n",
       " {'name': 'realization', 'unit': '1', 'at': 0.0, 'step': None},\n",
       " {'name': 'height', 'unit': 'm', 'at': 5.0, 'step': None},\n",
       " {'name': 'projection_y_coordinate',\n",
       "  'unit': 'm',\n",
       "  'at': -1036000.0,\n",
       "  'step': None},\n",
       " {'name': 'projection_x_coordinate',\n",
       "  'unit': 'm',\n",
       "  'at': -1158000.0,\n",
       "  'step': None}]"
      ]
     },
     "execution_count": 152,
     "metadata": {},
     "output_type": "execute_result"
    }
   ],
   "source": [
    "# if msg['model'] == 'mo-atmospheric-ukv-prd':\n",
    "#     forecast_reference_time_step =  1*60*60\n",
    "#     forecast_period = 3600\n",
    "# elif msg['model'] == 'mo-atmospheric-mogreps-uk-prd':\n",
    "#     forecast_reference_time_step =  6*60*60\n",
    "#     forecast_period = 3600 \n",
    "# elif msg['model'] == 'mo-atmospheric-mogreps-g-prd':\n",
    "#     forecast_reference_time_step =  6*60*60\n",
    "#     forecast_period = 10800\n",
    "# else:\n",
    "#     raise RuntimeError(f\"Not sure about { msg['model']} since forecast_reference_time_step might not be const.\")\n",
    "\n",
    "\n",
    "dim_steps = {\n",
    "    'forecast_reference_time': forecast_reference_time_step, \n",
    "    'forecast_period': forecast_period_step\n",
    "}\n",
    "origin = []\n",
    "for c  in proto_cube.dim_coords:\n",
    "    if c.name() == 'forecast_reference_time':\n",
    "        assert 'seconds' in str(c.units).lower() # We've assumed that forecast_reference_time step is in seconds. Let's check.\n",
    "    origin.append({\n",
    "        'name': c.name(),\n",
    "        'unit': str(c.units),\n",
    "        'at': float(c.points[0]),\n",
    "        'step': dim_steps.get(c.name(), None)\n",
    "    })\n",
    "origin"
   ]
  },
  {
   "cell_type": "code",
   "execution_count": 153,
   "metadata": {},
   "outputs": [],
   "source": [
    "z_arr.attrs['_origin'] = origin\n",
    "z_arr.attrs['_offset'] = [0 for i in range(len(z_arr.shape))]"
   ]
  },
  {
   "cell_type": "code",
   "execution_count": 154,
   "metadata": {},
   "outputs": [
    {
     "data": {
      "text/plain": [
       "[0, 0, 0, 0, 0, 0]"
      ]
     },
     "execution_count": 154,
     "metadata": {},
     "output_type": "execute_result"
    }
   ],
   "source": [
    "z_arr.attrs['_offset']"
   ]
  },
  {
   "cell_type": "markdown",
   "metadata": {},
   "source": [
    "## Up date the meta data to be the shape of one complete run.\n",
    "\n",
    "Update the forecast_period zarr so that it's the shape of a complete run. The dim def will be there but the underling data will not."
   ]
  },
  {
   "cell_type": "code",
   "execution_count": 14,
   "metadata": {},
   "outputs": [
    {
     "ename": "AssertionError",
     "evalue": "",
     "output_type": "error",
     "traceback": [
      "\u001b[0;31m---------------------------------------------------------------------------\u001b[0m",
      "\u001b[0;31mAssertionError\u001b[0m                            Traceback (most recent call last)",
      "\u001b[0;32m<ipython-input-14-e22f362ee20e>\u001b[0m in \u001b[0;36m<module>\u001b[0;34m()\u001b[0m\n\u001b[1;32m      1\u001b[0m \u001b[0mforecast_period_array\u001b[0m \u001b[0;34m=\u001b[0m \u001b[0mzarr\u001b[0m\u001b[0;34m.\u001b[0m\u001b[0mopen\u001b[0m\u001b[0;34m(\u001b[0m\u001b[0ms3fs\u001b[0m\u001b[0;34m.\u001b[0m\u001b[0mS3Map\u001b[0m\u001b[0;34m(\u001b[0m\u001b[0;34mf's3://{get_zar_path(msg)}/forecast_period'\u001b[0m\u001b[0;34m)\u001b[0m\u001b[0;34m)\u001b[0m\u001b[0;34m\u001b[0m\u001b[0m\n\u001b[1;32m      2\u001b[0m \u001b[0;32massert\u001b[0m \u001b[0mstr\u001b[0m\u001b[0;34m(\u001b[0m\u001b[0mforecast_period_array\u001b[0m\u001b[0;34m.\u001b[0m\u001b[0mdtype\u001b[0m\u001b[0;34m)\u001b[0m \u001b[0;34m==\u001b[0m \u001b[0;34m'int32'\u001b[0m\u001b[0;34m\u001b[0m\u001b[0m\n\u001b[0;32m----> 3\u001b[0;31m \u001b[0;32massert\u001b[0m \u001b[0mforecast_period_array\u001b[0m\u001b[0;34m.\u001b[0m\u001b[0mshape\u001b[0m \u001b[0;34m==\u001b[0m \u001b[0;34m(\u001b[0m\u001b[0;36m1\u001b[0m\u001b[0;34m,\u001b[0m\u001b[0;34m)\u001b[0m\u001b[0;34m\u001b[0m\u001b[0m\n\u001b[0m\u001b[1;32m      4\u001b[0m \u001b[0mforecast_period_array\u001b[0m\u001b[0;34m.\u001b[0m\u001b[0mresize\u001b[0m\u001b[0;34m(\u001b[0m\u001b[0;34m(\u001b[0m\u001b[0mlen\u001b[0m\u001b[0;34m(\u001b[0m\u001b[0mforecast_periods\u001b[0m\u001b[0;34m,\u001b[0m\u001b[0;34m)\u001b[0m\u001b[0;34m)\u001b[0m\u001b[0;34m)\u001b[0m\u001b[0;34m\u001b[0m\u001b[0m\n\u001b[1;32m      5\u001b[0m \u001b[0mforecast_period_array\u001b[0m\u001b[0;34m[\u001b[0m\u001b[0;34m:\u001b[0m\u001b[0;34m]\u001b[0m \u001b[0;34m=\u001b[0m \u001b[0;34m[\u001b[0m\u001b[0mint\u001b[0m\u001b[0;34m(\u001b[0m\u001b[0mp\u001b[0m\u001b[0;34m)\u001b[0m \u001b[0;32mfor\u001b[0m \u001b[0mp\u001b[0m \u001b[0;32min\u001b[0m \u001b[0mforecast_periods\u001b[0m\u001b[0;34m]\u001b[0m\u001b[0;34m\u001b[0m\u001b[0m\n",
      "\u001b[0;31mAssertionError\u001b[0m: "
     ]
    }
   ],
   "source": [
    "forecast_period_array = zarr.open(s3fs.S3Map(f's3://{get_zar_path(msg)}/forecast_period'))\n",
    "assert str(forecast_period_array.dtype) == 'int32'\n",
    "assert forecast_period_array.shape == (1,)\n",
    "forecast_period_array.resize((len(forecast_periods,)))\n",
    "forecast_period_array[:] = [int(p) for p in forecast_periods]\n",
    "forecast_period_array.shape"
   ]
  },
  {
   "cell_type": "markdown",
   "metadata": {},
   "source": [
    "Update the data zarr to the new shape now we've extended the forecast_period\n",
    "Also update the shape of the data array to be one 24 hour rolling window."
   ]
  },
  {
   "cell_type": "code",
   "execution_count": 37,
   "metadata": {},
   "outputs": [],
   "source": [
    "assert msg['model'] == \"mo-atmospheric-mogreps-uk-prd\", f\"Model must be 'mo-atmospheric-mogreps-uk-prd' got {msg['model']}. That model isn't implemented yet\""
   ]
  },
  {
   "cell_type": "code",
   "execution_count": 17,
   "metadata": {},
   "outputs": [
    {
     "data": {
      "text/plain": [
       "<zarr.core.Array (1, 1, 12, 33, 970, 1042) float32>"
      ]
     },
     "execution_count": 17,
     "metadata": {},
     "output_type": "execute_result"
    }
   ],
   "source": [
    "z_arr = get_proto_zarr_array(msg)\n",
    "z_arr"
   ]
  },
  {
   "cell_type": "code",
   "execution_count": 40,
   "metadata": {},
   "outputs": [
    {
     "data": {
      "text/plain": [
       "4"
      ]
     },
     "execution_count": 40,
     "metadata": {},
     "output_type": "execute_result"
    }
   ],
   "source": [
    "24 // 6"
   ]
  },
  {
   "cell_type": "code",
   "execution_count": 41,
   "metadata": {},
   "outputs": [
    {
     "data": {
      "text/plain": [
       "'Old shape (1, 1, 12, 33, 970, 1042) new shape [4, 55, 12, 33, 970, 1042]'"
      ]
     },
     "execution_count": 41,
     "metadata": {},
     "output_type": "execute_result"
    }
   ],
   "source": [
    "forecast_period_index = -1\n",
    "forecast_reference_time_index = -1\n",
    "\n",
    "for i,c  in enumerate(proto_cube.dim_coords):\n",
    "    if(c.name() == \"forecast_period\"):\n",
    "        forecast_period_index = i\n",
    "        \n",
    "    if(c.name() == \"forecast_reference_time\"):\n",
    "        forecast_reference_time_index = i\n",
    "        \n",
    "assert forecast_period_index >= 0, \"Didn't find index for 'forecast_period' so can't update size\"\n",
    "assert forecast_reference_time_index >= 0, \"Didn't find index for 'forecast_reference_time_index' so can't update size\"\n",
    "\n",
    "\n",
    "# Assume 24 hours rolling, one model every 6 hours there for 4 forecast_reference_time's\n",
    "\n",
    "\n",
    "new_shape = list(z_arr.shape)\n",
    "new_shape[forecast_period_index] = forecast_period_array.shape[0]\n",
    "new_shape[forecast_reference_time_index] = 24 // 6\n",
    "\n",
    "f\"Old shape {proto_cube.shape} new shape {new_shape}\""
   ]
  },
  {
   "cell_type": "code",
   "execution_count": 42,
   "metadata": {},
   "outputs": [
    {
     "data": {
      "text/plain": [
       "(4, 55, 12, 33, 970, 1042)"
      ]
     },
     "execution_count": 42,
     "metadata": {},
     "output_type": "execute_result"
    }
   ],
   "source": [
    "z_arr.resize(new_shape)\n",
    "z_arr.shape"
   ]
  }
 ],
 "metadata": {
  "celltoolbar": "Tags",
  "kernelspec": {
   "display_name": "Python [default]",
   "language": "python",
   "name": "python3"
  },
  "language_info": {
   "codemirror_mode": {
    "name": "ipython",
    "version": 3
   },
   "file_extension": ".py",
   "mimetype": "text/x-python",
   "name": "python",
   "nbconvert_exporter": "python",
   "pygments_lexer": "ipython3",
   "version": "3.6.3"
  }
 },
 "nbformat": 4,
 "nbformat_minor": 2
}
